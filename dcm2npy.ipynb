{
 "cells": [
  {
   "cell_type": "code",
   "execution_count": null,
   "id": "5998fde5-976e-4b14-9982-6311afc84941",
   "metadata": {},
   "outputs": [],
   "source": [
    "import os\n",
    "import numpy as np\n",
    "import pydicom"
   ]
  },
  {
   "cell_type": "code",
   "execution_count": null,
   "id": "3f9dbdc1-6c36-441c-ae86-28084b66b7e7",
   "metadata": {},
   "outputs": [],
   "source": [
    "# Root directory of all scans, it contains folders like LUNG1-001_20180209_CT\n",
    "INPUT_ROOT_DIR = \"./data_dcm\"\n",
    "# Output folder, .npy files will be placed here\n",
    "DATA_OUTPUT_DIR = \"./data_npy\""
   ]
  },
  {
   "cell_type": "code",
   "execution_count": null,
   "id": "abd87039-d9ea-4cc1-a705-ada4c5592dad",
   "metadata": {},
   "outputs": [],
   "source": [
    "# List all dirs in selected root\n",
    "_, dirs, _ = next(os.walk(f\"{INPUT_ROOT_DIR}\"))\n",
    "for cur_dir in dirs:\n",
    "    cur_dir_full = f\"{INPUT_ROOT_DIR}/{cur_dir}\"\n",
    "    # List all files in current dir\n",
    "    _, _, files = next(os.walk(cur_dir_full))\n",
    "    # Take only .dcm files\n",
    "    files = filter(lambda f: f.split(\".\")[1] == \"dcm\", files)\n",
    "    # Sort by file number\n",
    "    dicoms = sorted(files, key=lambda f: int(f.split(\".\")[0]))\n",
    "    np_list = []\n",
    "    for dicom in dicoms:\n",
    "        dicom = pydicom.read_file(f\"{cur_dir_full}/\" + dicom)\n",
    "        # Check whether the file contains image data we're interested in\n",
    "        if dicom[(0x0008, 0x0016)].repval == \"CT Image Storage\":\n",
    "            np_pixel_array = dicom.pixel_array\n",
    "            np_list.append(np_pixel_array)\n",
    "    # Write as NumPy array\n",
    "    if np_list:\n",
    "        npy = np.array(np_list)\n",
    "        os.makedirs(DATA_OUTPUT_DIR, exist_ok=True)\n",
    "        np.save(f\"{DATA_OUTPUT_DIR}/{cur_dir}.npy\", npy)"
   ]
  }
 ],
 "metadata": {
  "kernelspec": {
   "display_name": "Python 3 (ipykernel)",
   "language": "python",
   "name": "python3"
  },
  "language_info": {
   "codemirror_mode": {
    "name": "ipython",
    "version": 3
   },
   "file_extension": ".py",
   "mimetype": "text/x-python",
   "name": "python",
   "nbconvert_exporter": "python",
   "pygments_lexer": "ipython3",
   "version": "3.8.16"
  }
 },
 "nbformat": 4,
 "nbformat_minor": 5
}
